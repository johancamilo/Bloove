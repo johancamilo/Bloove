{
  "nbformat": 4,
  "nbformat_minor": 0,
  "metadata": {
    "colab": {
      "name": "T04_knn_johanvamilomedinapava.ipynb",
      "provenance": [],
      "collapsed_sections": [],
      "authorship_tag": "ABX9TyPOzdCQQmAVEiOBbQqDGZmY",
      "include_colab_link": true
    },
    "kernelspec": {
      "name": "python3",
      "display_name": "Python 3"
    },
    "language_info": {
      "name": "python"
    }
  },
  "cells": [
    {
      "cell_type": "markdown",
      "metadata": {
        "id": "view-in-github",
        "colab_type": "text"
      },
      "source": [
        "<a href=\"https://colab.research.google.com/github/johancamilo/Bloove/blob/master/T04_knn_johanvamilomedinapava.ipynb\" target=\"_parent\"><img src=\"https://colab.research.google.com/assets/colab-badge.svg\" alt=\"Open In Colab\"/></a>"
      ]
    },
    {
      "cell_type": "code",
      "metadata": {
        "colab": {
          "base_uri": "https://localhost:8080/"
        },
        "id": "0CDvlECi7WX2",
        "outputId": "efd7858b-be48-4a78-877c-b9bcb69b0edb"
      },
      "source": [
        "!rm -rf data/\n",
        "!rm -rf data.z*\n",
        "!drm -rf mlutils.p*\n",
        "!mkdir -p data/\n",
        "!cd data/\n",
        "!wget https://github.com/marcoteran/artificialintelligence/raw/master/notebooks/01_machinelearnig/data/wine.data.txt -P data/\n",
        "!ls"
      ],
      "execution_count": 111,
      "outputs": [
        {
          "output_type": "stream",
          "name": "stdout",
          "text": [
            "/bin/bash: drm: command not found\n",
            "--2021-11-03 00:38:56--  https://github.com/marcoteran/artificialintelligence/raw/master/notebooks/01_machinelearnig/data/wine.data.txt\n",
            "Resolving github.com (github.com)... 140.82.114.4\n",
            "Connecting to github.com (github.com)|140.82.114.4|:443... connected.\n",
            "HTTP request sent, awaiting response... 302 Found\n",
            "Location: https://raw.githubusercontent.com/marcoteran/artificialintelligence/master/notebooks/01_machinelearnig/data/wine.data.txt [following]\n",
            "--2021-11-03 00:38:56--  https://raw.githubusercontent.com/marcoteran/artificialintelligence/master/notebooks/01_machinelearnig/data/wine.data.txt\n",
            "Resolving raw.githubusercontent.com (raw.githubusercontent.com)... 185.199.108.133, 185.199.111.133, 185.199.110.133, ...\n",
            "Connecting to raw.githubusercontent.com (raw.githubusercontent.com)|185.199.108.133|:443... connected.\n",
            "HTTP request sent, awaiting response... 200 OK\n",
            "Length: 10925 (11K) [text/plain]\n",
            "Saving to: ‘data/wine.data.txt’\n",
            "\n",
            "wine.data.txt       100%[===================>]  10.67K  --.-KB/s    in 0s      \n",
            "\n",
            "2021-11-03 00:38:56 (29.1 MB/s) - ‘data/wine.data.txt’ saved [10925/10925]\n",
            "\n",
            "data  sample_data\n"
          ]
        }
      ]
    },
    {
      "cell_type": "code",
      "metadata": {
        "id": "uOjgut6C926J"
      },
      "source": [
        "import pandas as pd"
      ],
      "execution_count": 112,
      "outputs": []
    },
    {
      "cell_type": "code",
      "metadata": {
        "id": "NbAzvYAh8WJU"
      },
      "source": [
        "winedata_df = pd.read_csv('/content/data/wine.data.txt')"
      ],
      "execution_count": 113,
      "outputs": []
    },
    {
      "cell_type": "code",
      "metadata": {
        "colab": {
          "base_uri": "https://localhost:8080/",
          "height": 224
        },
        "id": "OVQe3K9D-j37",
        "outputId": "cc09e0ec-e1a4-41aa-e016-59afd9a57871"
      },
      "source": [
        "winedata_df.head()"
      ],
      "execution_count": 114,
      "outputs": [
        {
          "output_type": "execute_result",
          "data": {
            "text/html": [
              "<div>\n",
              "<style scoped>\n",
              "    .dataframe tbody tr th:only-of-type {\n",
              "        vertical-align: middle;\n",
              "    }\n",
              "\n",
              "    .dataframe tbody tr th {\n",
              "        vertical-align: top;\n",
              "    }\n",
              "\n",
              "    .dataframe thead th {\n",
              "        text-align: right;\n",
              "    }\n",
              "</style>\n",
              "<table border=\"1\" class=\"dataframe\">\n",
              "  <thead>\n",
              "    <tr style=\"text-align: right;\">\n",
              "      <th></th>\n",
              "      <th>Class</th>\n",
              "      <th>Alcohol</th>\n",
              "      <th>Malic_acid</th>\n",
              "      <th>Ash</th>\n",
              "      <th>Alcalinity</th>\n",
              "      <th>Magnesium</th>\n",
              "      <th>Phenols</th>\n",
              "      <th>Flavanoids</th>\n",
              "      <th>Nonflavanoid</th>\n",
              "      <th>Proanthocyanins</th>\n",
              "      <th>Color</th>\n",
              "      <th>Hue</th>\n",
              "      <th>OD280/OD315</th>\n",
              "      <th>Proline</th>\n",
              "    </tr>\n",
              "  </thead>\n",
              "  <tbody>\n",
              "    <tr>\n",
              "      <th>0</th>\n",
              "      <td>1</td>\n",
              "      <td>14.23</td>\n",
              "      <td>1.71</td>\n",
              "      <td>2.43</td>\n",
              "      <td>15.6</td>\n",
              "      <td>127</td>\n",
              "      <td>2.80</td>\n",
              "      <td>3.06</td>\n",
              "      <td>0.28</td>\n",
              "      <td>2.29</td>\n",
              "      <td>5.64</td>\n",
              "      <td>1.04</td>\n",
              "      <td>3.92</td>\n",
              "      <td>1065</td>\n",
              "    </tr>\n",
              "    <tr>\n",
              "      <th>1</th>\n",
              "      <td>1</td>\n",
              "      <td>13.20</td>\n",
              "      <td>1.78</td>\n",
              "      <td>2.14</td>\n",
              "      <td>11.2</td>\n",
              "      <td>100</td>\n",
              "      <td>2.65</td>\n",
              "      <td>2.76</td>\n",
              "      <td>0.26</td>\n",
              "      <td>1.28</td>\n",
              "      <td>4.38</td>\n",
              "      <td>1.05</td>\n",
              "      <td>3.40</td>\n",
              "      <td>1050</td>\n",
              "    </tr>\n",
              "    <tr>\n",
              "      <th>2</th>\n",
              "      <td>1</td>\n",
              "      <td>13.16</td>\n",
              "      <td>2.36</td>\n",
              "      <td>2.67</td>\n",
              "      <td>18.6</td>\n",
              "      <td>101</td>\n",
              "      <td>2.80</td>\n",
              "      <td>3.24</td>\n",
              "      <td>0.30</td>\n",
              "      <td>2.81</td>\n",
              "      <td>5.68</td>\n",
              "      <td>1.03</td>\n",
              "      <td>3.17</td>\n",
              "      <td>1185</td>\n",
              "    </tr>\n",
              "    <tr>\n",
              "      <th>3</th>\n",
              "      <td>1</td>\n",
              "      <td>14.37</td>\n",
              "      <td>1.95</td>\n",
              "      <td>2.50</td>\n",
              "      <td>16.8</td>\n",
              "      <td>113</td>\n",
              "      <td>3.85</td>\n",
              "      <td>3.49</td>\n",
              "      <td>0.24</td>\n",
              "      <td>2.18</td>\n",
              "      <td>7.80</td>\n",
              "      <td>0.86</td>\n",
              "      <td>3.45</td>\n",
              "      <td>1480</td>\n",
              "    </tr>\n",
              "    <tr>\n",
              "      <th>4</th>\n",
              "      <td>1</td>\n",
              "      <td>13.24</td>\n",
              "      <td>2.59</td>\n",
              "      <td>2.87</td>\n",
              "      <td>21.0</td>\n",
              "      <td>118</td>\n",
              "      <td>2.80</td>\n",
              "      <td>2.69</td>\n",
              "      <td>0.39</td>\n",
              "      <td>1.82</td>\n",
              "      <td>4.32</td>\n",
              "      <td>1.04</td>\n",
              "      <td>2.93</td>\n",
              "      <td>735</td>\n",
              "    </tr>\n",
              "  </tbody>\n",
              "</table>\n",
              "</div>"
            ],
            "text/plain": [
              "   Class  Alcohol   Malic_acid   Ash  ...  Color   Hue   OD280/OD315   Proline    \n",
              "0      1    14.23         1.71  2.43  ...   5.64  1.04          3.92          1065\n",
              "1      1    13.20         1.78  2.14  ...   4.38  1.05          3.40          1050\n",
              "2      1    13.16         2.36  2.67  ...   5.68  1.03          3.17          1185\n",
              "3      1    14.37         1.95  2.50  ...   7.80  0.86          3.45          1480\n",
              "4      1    13.24         2.59  2.87  ...   4.32  1.04          2.93           735\n",
              "\n",
              "[5 rows x 14 columns]"
            ]
          },
          "metadata": {},
          "execution_count": 114
        }
      ]
    },
    {
      "cell_type": "code",
      "metadata": {
        "id": "km5JKK_Z-qz_"
      },
      "source": [
        "%matplotlib inline\n",
        "import matplotlib.pyplot as plt\n",
        "import numpy as np\n",
        "import pylab as pl\n",
        "from sklearn.datasets import make_moons"
      ],
      "execution_count": 115,
      "outputs": []
    },
    {
      "cell_type": "code",
      "metadata": {
        "id": "Kc5rItM9-2mB"
      },
      "source": [
        "def plot_data(X, y):\n",
        "    y_unique = np.unique(y)\n",
        "    colors = pl.cm.rainbow(np.linspace(0.0, 1.0, y_unique.size))\n",
        "    for this_y, color in zip(y_unique, colors):\n",
        "        this_X = X[y == this_y]\n",
        "        pl.scatter(this_X[:, 0], this_X[:, 1],  c=color.reshape(1,-1),\n",
        "                    alpha=0.5, edgecolor='k',\n",
        "                    label=\"Class %s\" % this_y)\n",
        "    pl.legend(loc=\"best\")\n",
        "    pl.title(\"Data\")\n",
        "    \n",
        "# Función para visualizar de la superficie de decisión de un clasificador\n",
        "def plot_decision_region(X, pred_fun):\n",
        "    min_x = np.min(X[:, 0])\n",
        "    max_x = np.max(X[:, 0])\n",
        "    min_y = np.min(X[:, 1])\n",
        "    max_y = np.max(X[:, 1])\n",
        "    min_x = min_x - (max_x - min_x) * 0.05\n",
        "    max_x = max_x + (max_x - min_x) * 0.05\n",
        "    min_y = min_y - (max_y - min_y) * 0.05\n",
        "    max_y = max_y + (max_y - min_y) * 0.05\n",
        "    x_vals = np.linspace(min_x, max_x, 100)\n",
        "    y_vals = np.linspace(min_y, max_y, 100)\n",
        "    XX, YY = np.meshgrid(x_vals, y_vals)\n",
        "    grid_r, grid_c = XX.shape\n",
        "    ZZ = np.zeros((grid_r, grid_c))\n",
        "    for i in range(grid_r):\n",
        "        for j in range(grid_c):\n",
        "            ZZ[i, j] = pred_fun(XX[i, j], YY[i, j])\n",
        "    pl.contourf(XX, YY, ZZ, 100, cmap = pl.cm.coolwarm, vmin= -1, vmax=2)\n",
        "    pl.colorbar()\n",
        "    pl.xlabel(\"x\")\n",
        "    pl.ylabel(\"y\")\n",
        "    \n",
        "def gen_pred_fun(clf):\n",
        "    def pred_fun(x1, x2):\n",
        "        x = np.array([[x1, x2]])\n",
        "        return clf.predict(x)[0]\n",
        "    return pred_fun"
      ],
      "execution_count": 116,
      "outputs": []
    },
    {
      "cell_type": "markdown",
      "metadata": {
        "id": "8gcZ2Ia4_xHL"
      },
      "source": [
        "# Preprocesamiento de datos"
      ]
    },
    {
      "cell_type": "code",
      "metadata": {
        "id": "GZ4v5vG0_x06"
      },
      "source": [
        "wine_labels = winedata_df['Class']"
      ],
      "execution_count": 117,
      "outputs": []
    },
    {
      "cell_type": "code",
      "metadata": {
        "id": "9_fEQIiQAd4P"
      },
      "source": [
        "winedata_df.drop('Class', axis=1, inplace=True)"
      ],
      "execution_count": 118,
      "outputs": []
    },
    {
      "cell_type": "code",
      "metadata": {
        "id": "9_mLw7kMAxpE"
      },
      "source": [
        "X=np.array(winedata_df)\n",
        "y=np.array(wine_labels)"
      ],
      "execution_count": 119,
      "outputs": []
    },
    {
      "cell_type": "code",
      "metadata": {
        "id": "bzZ5MvQ-Bcyr"
      },
      "source": [
        "X_PF=X[:,[6,12]]"
      ],
      "execution_count": 120,
      "outputs": []
    },
    {
      "cell_type": "markdown",
      "metadata": {
        "id": "7T9erik3Bwsq"
      },
      "source": [
        "# Training"
      ]
    },
    {
      "cell_type": "code",
      "metadata": {
        "colab": {
          "base_uri": "https://localhost:8080/"
        },
        "id": "OzMueHXYBvRw",
        "outputId": "afb30f6a-e079-4201-fa90-babb239090cc"
      },
      "source": [
        "print('Mostrar el tamaño de X:', X.shape)\n",
        "print('Mostrar el tamaño de X_PF:', X_PF.shape)\n",
        "print('Mostrar el tamaño de y:', y.shape)\n",
        "\n",
        "print('Primeras 5 muestras\\n', X_PF[:5,:])\n",
        "print('Primeras 5 etiquetas\\n', y[:5])"
      ],
      "execution_count": 121,
      "outputs": [
        {
          "output_type": "stream",
          "name": "stdout",
          "text": [
            "Mostrar el tamaño de X: (178, 13)\n",
            "Mostrar el tamaño de X_PF: (178, 2)\n",
            "Mostrar el tamaño de y: (178,)\n",
            "Primeras 5 muestras\n",
            " [[   3.06 1065.  ]\n",
            " [   2.76 1050.  ]\n",
            " [   3.24 1185.  ]\n",
            " [   3.49 1480.  ]\n",
            " [   2.69  735.  ]]\n",
            "Primeras 5 etiquetas\n",
            " [1 1 1 1 1]\n"
          ]
        }
      ]
    },
    {
      "cell_type": "code",
      "metadata": {
        "id": "mTVGbZNlCHOs"
      },
      "source": [
        "from sklearn.neighbors import KNeighborsClassifier\n",
        "from sklearn.model_selection import train_test_split"
      ],
      "execution_count": 122,
      "outputs": []
    },
    {
      "cell_type": "code",
      "metadata": {
        "id": "csBMMwwBCJQ7"
      },
      "source": [
        "X_train, X_test, y_train,y_test = train_test_split(X_PF, y,\n",
        "                                                   test_size=0.3,\n",
        "                                                   stratify=y)"
      ],
      "execution_count": 123,
      "outputs": []
    },
    {
      "cell_type": "code",
      "metadata": {
        "colab": {
          "base_uri": "https://localhost:8080/"
        },
        "id": "yd0VOJh7C_6Z",
        "outputId": "490860c3-0128-4209-f281-d366abff4747"
      },
      "source": [
        "k_values = list(range(1, 21))\n",
        "print(k_values)"
      ],
      "execution_count": 124,
      "outputs": [
        {
          "output_type": "stream",
          "name": "stdout",
          "text": [
            "[1, 2, 3, 4, 5, 6, 7, 8, 9, 10, 11, 12, 13, 14, 15, 16, 17, 18, 19, 20]\n"
          ]
        }
      ]
    },
    {
      "cell_type": "code",
      "metadata": {
        "id": "o8sUdlZuDuxS"
      },
      "source": [
        "train_error = []\n",
        "generalization_error = []\n",
        "\n",
        "# Utilizar un for\n",
        "for nn in k_values:\n",
        "  knn=KNeighborsClassifier(n_neighbors=nn)\n",
        "  knn.fit(X_train,y_train)\n",
        "  train_error.append(1-knn.score(X_train,y_train))\n",
        "  generalization_error.append(1-knn.score(X_test,y_test))"
      ],
      "execution_count": 125,
      "outputs": []
    },
    {
      "cell_type": "code",
      "metadata": {
        "colab": {
          "base_uri": "https://localhost:8080/",
          "height": 388
        },
        "id": "YXNgfITaEyxX",
        "outputId": "7595fc60-e5c1-4b9c-ca46-99e32ba8762b"
      },
      "source": [
        "pl.figure(figsize=(10,6))\n",
        "\n",
        "pl.plot(k_values, train_error, label='error de entrenamiento')\n",
        "pl.plot(k_values, generalization_error, label='error de generalización')\n",
        "pl.xticks(k_values)\n",
        "pl.xlabel('k')\n",
        "pl.ylabel('Error')\n",
        "pl.legend()\n",
        "pl.grid()"
      ],
      "execution_count": 126,
      "outputs": [
        {
          "output_type": "display_data",
          "data": {
            "image/png": "[encoded data removed]",
            "text/plain": [
              "<Figure size 720x432 with 1 Axes>"
            ]
          },
          "metadata": {
            "needs_background": "light"
          }
        }
      ]
    },
    {
      "cell_type": "code",
      "metadata": {
        "colab": {
          "base_uri": "https://localhost:8080/"
        },
        "id": "wvVGiHtWGms2",
        "outputId": "b71e44a0-3050-4460-8cd2-69485f9fd9e1"
      },
      "source": [
        "knn_opt=KNeighborsClassifier(n_neighbors=15)\n",
        "knn_opt.fit(X_train,y_train)"
      ],
      "execution_count": 127,
      "outputs": [
        {
          "output_type": "execute_result",
          "data": {
            "text/plain": [
              "KNeighborsClassifier(algorithm='auto', leaf_size=30, metric='minkowski',\n",
              "                     metric_params=None, n_jobs=None, n_neighbors=15, p=2,\n",
              "                     weights='uniform')"
            ]
          },
          "metadata": {},
          "execution_count": 127
        }
      ]
    },
    {
      "cell_type": "code",
      "metadata": {
        "colab": {
          "base_uri": "https://localhost:8080/",
          "height": 404
        },
        "id": "wJIXvWWEHHqL",
        "outputId": "36a7f68d-8ef3-4bec-b162-fa0b3e51fa0c"
      },
      "source": [
        "# Dibujar superficie de decición con los datos de entrenamiento\n",
        "pl.figure(figsize=(10,6))\n",
        "plot_decision_region(X_train, gen_pred_fun(knn_opt))\n",
        "plot_data(X_train, y_train)"
      ],
      "execution_count": 128,
      "outputs": [
        {
          "output_type": "display_data",
          "data": {
            "image/png": "[encoded data removed]",
            "text/plain": [
              "<Figure size 720x432 with 2 Axes>"
            ]
          },
          "metadata": {
            "needs_background": "light"
          }
        }
      ]
    },
    {
      "cell_type": "code",
      "metadata": {
        "colab": {
          "base_uri": "https://localhost:8080/",
          "height": 404
        },
        "id": "YhsSUPpHHM-k",
        "outputId": "f3279cde-9c3c-402c-8e00-2148f62dcc0c"
      },
      "source": [
        "pl.figure(figsize=(10,6))\n",
        "plot_decision_region(X_test, gen_pred_fun(knn_opt))\n",
        "plot_data(X_test, y_test)"
      ],
      "execution_count": 129,
      "outputs": [
        {
          "output_type": "display_data",
          "data": {
            "image/png": "[encoded data removed]",
            "text/plain": [
              "<Figure size 720x432 with 2 Axes>"
            ]
          },
          "metadata": {
            "needs_background": "light"
          }
        }
      ]
    },
    {
      "cell_type": "code",
      "metadata": {
        "colab": {
          "base_uri": "https://localhost:8080/"
        },
        "id": "6vKFEM0SNkWA",
        "outputId": "fd680e0e-65bd-48f7-a8bb-ec54b302ac4a"
      },
      "source": [
        "print('Error de generalización: {}'.format(1-knn.score(X_test,y_test)))"
      ],
      "execution_count": 130,
      "outputs": [
        {
          "output_type": "stream",
          "name": "stdout",
          "text": [
            "Error de generalización: 0.31481481481481477\n"
          ]
        }
      ]
    },
    {
      "cell_type": "markdown",
      "metadata": {
        "id": "7o4RjGMoONQT"
      },
      "source": [
        "# Matriz De Confusion"
      ]
    },
    {
      "cell_type": "code",
      "metadata": {
        "id": "d01fN6KxM-8q"
      },
      "source": [
        "from sklearn.linear_model import LogisticRegression\n",
        "\n",
        "classifier_FP = LogisticRegression(multi_class='multinomial', solver='lbfgs', max_iter=300);\n",
        "\n",
        "classifier_FP.fit(X_PF,y)\n",
        "predictions__FP = classifier_FP.predict(X_PF)\n",
        "from sklearn.metrics import confusion_matrix\n",
        "\n",
        "cnf_matrix_FP = confusion_matrix(y, predictions__FP)\n"
      ],
      "execution_count": 131,
      "outputs": []
    },
    {
      "cell_type": "code",
      "metadata": {
        "colab": {
          "base_uri": "https://localhost:8080/"
        },
        "id": "Wy-CdN_5M7dm",
        "outputId": "6656e65e-eed2-4155-dfc1-61d2ec778ff6"
      },
      "source": [
        "print(cnf_matrix_FP)"
      ],
      "execution_count": 132,
      "outputs": [
        {
          "output_type": "stream",
          "name": "stdout",
          "text": [
            "[[56  3  0]\n",
            " [ 3 62  6]\n",
            " [ 0  6 42]]\n"
          ]
        }
      ]
    },
    {
      "cell_type": "code",
      "metadata": {
        "id": "USOVHehbMzbe"
      },
      "source": [
        "import itertools\n",
        "import pylab as pl\n",
        "\n",
        "def plot_confusion_matrix(cm, classes,\n",
        "                          title='Matriz de confusión',\n",
        "                          cmap=pl.cm.Blues):\n",
        "    print(cm) # Confusion matrix\n",
        "\n",
        "    pl.imshow(cm, interpolation='nearest', cmap=cmap) # Pintamos la matriz como una imagen\n",
        "    pl.title(title)\n",
        "    pl.colorbar()\n",
        "    tick_marks = np.arange(len(classes))\n",
        "    pl.xticks(tick_marks, classes, rotation=45) # Nombre de las clases en X\n",
        "    pl.yticks(tick_marks, classes) # Nombre de las clases en Y\n",
        "\n",
        "    thresh = cm.max() / 2.\n",
        "    for i, j in itertools.product(range(cm.shape[0]), range(cm.shape[1])):\n",
        "        pl.text(j, i, format(cm[i, j], 'd'),\n",
        "                 horizontalalignment=\"center\",\n",
        "                 color=\"white\" if cm[i, j] > thresh else \"black\") \n",
        "        # Anotamos cada sección de la imagen con su valor correspondiente en la matriz\n",
        "\n",
        "    pl.tight_layout()\n",
        "    pl.ylabel('Valor de verdad')\n",
        "    pl.xlabel('Valor predicho')"
      ],
      "execution_count": 133,
      "outputs": []
    },
    {
      "cell_type": "code",
      "metadata": {
        "colab": {
          "base_uri": "https://localhost:8080/",
          "height": 362
        },
        "id": "rdJ_CYcSM0H-",
        "outputId": "3bbe5bac-866a-4487-8cd3-2305c4090215"
      },
      "source": [
        "\n",
        "pl.figure()\n",
        "plot_confusion_matrix(cnf_matrix_FP, classes=['1','2','3'],\n",
        "                      title='Matriz de confusión de FP')\n",
        "\n",
        "pl.show()"
      ],
      "execution_count": 134,
      "outputs": [
        {
          "output_type": "stream",
          "name": "stdout",
          "text": [
            "[[56  3  0]\n",
            " [ 3 62  6]\n",
            " [ 0  6 42]]\n"
          ]
        },
        {
          "output_type": "display_data",
          "data": {
            "image/png": "[encoded data removed]",
            "text/plain": [
              "<Figure size 432x288 with 2 Axes>"
            ]
          },
          "metadata": {
            "needs_background": "light"
          }
        }
      ]
    },
    {
      "cell_type": "markdown",
      "metadata": {
        "id": "cW9FoxJrOQlI"
      },
      "source": [
        "# Caracteristicas X"
      ]
    },
    {
      "cell_type": "code",
      "metadata": {
        "colab": {
          "base_uri": "https://localhost:8080/"
        },
        "id": "C7JSkL4pL_uU",
        "outputId": "9487e2a5-00fe-4212-f50a-034a77f97dda"
      },
      "source": [
        "print('Mostrar el tamaño de X:', X.shape)\n",
        "print('Mostrar el tamaño de y:', y.shape)\n",
        "\n",
        "print('Primeras 5 muestras\\n', X[:5,:])\n",
        "print('Primeras 5 etiquetas\\n', y[:5])"
      ],
      "execution_count": 181,
      "outputs": [
        {
          "output_type": "stream",
          "name": "stdout",
          "text": [
            "Mostrar el tamaño de X: (178, 13)\n",
            "Mostrar el tamaño de y: (178,)\n",
            "Primeras 5 muestras\n",
            " [[1.423e+01 1.710e+00 2.430e+00 1.560e+01 1.270e+02 2.800e+00 3.060e+00\n",
            "  2.800e-01 2.290e+00 5.640e+00 1.040e+00 3.920e+00 1.065e+03]\n",
            " [1.320e+01 1.780e+00 2.140e+00 1.120e+01 1.000e+02 2.650e+00 2.760e+00\n",
            "  2.600e-01 1.280e+00 4.380e+00 1.050e+00 3.400e+00 1.050e+03]\n",
            " [1.316e+01 2.360e+00 2.670e+00 1.860e+01 1.010e+02 2.800e+00 3.240e+00\n",
            "  3.000e-01 2.810e+00 5.680e+00 1.030e+00 3.170e+00 1.185e+03]\n",
            " [1.437e+01 1.950e+00 2.500e+00 1.680e+01 1.130e+02 3.850e+00 3.490e+00\n",
            "  2.400e-01 2.180e+00 7.800e+00 8.600e-01 3.450e+00 1.480e+03]\n",
            " [1.324e+01 2.590e+00 2.870e+00 2.100e+01 1.180e+02 2.800e+00 2.690e+00\n",
            "  3.900e-01 1.820e+00 4.320e+00 1.040e+00 2.930e+00 7.350e+02]]\n",
            "Primeras 5 etiquetas\n",
            " [1 1 1 1 1]\n"
          ]
        }
      ]
    },
    {
      "cell_type": "code",
      "metadata": {
        "id": "ETi1D_bcI13M"
      },
      "source": [
        "\n",
        "X_train2, X_test2, y_train2,y_test2 = train_test_split(X, y,\n",
        "                                                   test_size=0.3,\n",
        "                                                   stratify=y)"
      ],
      "execution_count": 183,
      "outputs": []
    },
    {
      "cell_type": "code",
      "metadata": {
        "colab": {
          "base_uri": "https://localhost:8080/"
        },
        "id": "CzQUBemHLM2A",
        "outputId": "453128ee-3817-437a-d922-145ca517710c"
      },
      "source": [
        "k_values2 = list(range(1, 21))\n",
        "print(k_values2)"
      ],
      "execution_count": 184,
      "outputs": [
        {
          "output_type": "stream",
          "name": "stdout",
          "text": [
            "[1, 2, 3, 4, 5, 6, 7, 8, 9, 10, 11, 12, 13, 14, 15, 16, 17, 18, 19, 20]\n"
          ]
        }
      ]
    },
    {
      "cell_type": "code",
      "metadata": {
        "id": "zXuFPLzeJ5CD"
      },
      "source": [
        "train_error = []\n",
        "generalization_error = []\n",
        "\n",
        "# Utilizar un for\n",
        "for nn in k_values2:\n",
        "  knn=KNeighborsClassifier(n_neighbors=nn)\n",
        "  knn.fit(X_train2,y_train2)\n",
        "  train_error.append(1-knn.score(X_train2,y_train2))\n",
        "  generalization_error.append(1-knn.score(X_test2,y_test2))"
      ],
      "execution_count": 185,
      "outputs": []
    },
    {
      "cell_type": "code",
      "metadata": {
        "colab": {
          "base_uri": "https://localhost:8080/",
          "height": 388
        },
        "id": "qaHTWH5iJpyY",
        "outputId": "71e54f27-5d1e-40b6-956e-eb68efd8ef00"
      },
      "source": [
        "pl.figure(figsize=(10,6))\n",
        "\n",
        "pl.plot(k_values2, train_error, label='error de entrenamiento')\n",
        "pl.plot(k_values2, generalization_error, label='error de generalización')\n",
        "pl.xticks(k_values2)\n",
        "pl.xlabel('k')\n",
        "pl.ylabel('Error')\n",
        "pl.legend()\n",
        "pl.grid()"
      ],
      "execution_count": 186,
      "outputs": [
        {
          "output_type": "display_data",
          "data": {
            "image/png": "[encoded data removed]",
            "text/plain": [
              "<Figure size 720x432 with 1 Axes>"
            ]
          },
          "metadata": {
            "needs_background": "light"
          }
        }
      ]
    },
    {
      "cell_type": "code",
      "metadata": {
        "colab": {
          "base_uri": "https://localhost:8080/"
        },
        "id": "oH_00huIKA_5",
        "outputId": "e437261f-59c4-4a34-a0db-c98c7eb529b2"
      },
      "source": [
        "knn_opt=KNeighborsClassifier(n_neighbors=1)\n",
        "knn_opt.fit(X_train2,y_train2)"
      ],
      "execution_count": 187,
      "outputs": [
        {
          "output_type": "execute_result",
          "data": {
            "text/plain": [
              "KNeighborsClassifier(algorithm='auto', leaf_size=30, metric='minkowski',\n",
              "                     metric_params=None, n_jobs=None, n_neighbors=1, p=2,\n",
              "                     weights='uniform')"
            ]
          },
          "metadata": {},
          "execution_count": 187
        }
      ]
    },
    {
      "cell_type": "code",
      "metadata": {
        "colab": {
          "base_uri": "https://localhost:8080/"
        },
        "id": "n8WngSuZKf9j",
        "outputId": "3c384964-2097-4772-ee19-548dbf602f7d"
      },
      "source": [
        "print('Error de generalización: {}'.format(1-knn.score(X_test2,y_test2)))"
      ],
      "execution_count": 188,
      "outputs": [
        {
          "output_type": "stream",
          "name": "stdout",
          "text": [
            "Error de generalización: 0.2962962962962963\n"
          ]
        }
      ]
    },
    {
      "cell_type": "markdown",
      "metadata": {
        "id": "q5t_9cbROz82"
      },
      "source": [
        "# Conclusion\n"
      ]
    },
    {
      "cell_type": "markdown",
      "metadata": {
        "id": "k8DJfLwDQhFh"
      },
      "source": [
        "Error de generalización: 0.31481481481481477 ( X_PF , y ) y\n",
        "El Error de generalización de ( X , y )  =  0.2962962962962963 , en base a ambos errores observamos con X tuvimos un error menor que con X_PF"
      ]
    }
  ]
}